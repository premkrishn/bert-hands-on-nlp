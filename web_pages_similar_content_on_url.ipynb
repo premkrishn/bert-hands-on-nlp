{
  "nbformat": 4,
  "nbformat_minor": 0,
  "metadata": {
    "colab": {
      "provenance": [],
      "authorship_tag": "ABX9TyM137slPIfJRqIbcyfPh3Vm",
      "include_colab_link": true
    },
    "kernelspec": {
      "name": "python3",
      "display_name": "Python 3"
    },
    "language_info": {
      "name": "python"
    }
  },
  "cells": [
    {
      "cell_type": "markdown",
      "metadata": {
        "id": "view-in-github",
        "colab_type": "text"
      },
      "source": [
        "<a href=\"https://colab.research.google.com/github/premkrishn/bert-hands-on-nlp/blob/main/web_pages_similar_content_on_url.ipynb\" target=\"_parent\"><img src=\"https://colab.research.google.com/assets/colab-badge.svg\" alt=\"Open In Colab\"/></a>"
      ]
    },
    {
      "cell_type": "code",
      "execution_count": 62,
      "metadata": {
        "colab": {
          "base_uri": "https://localhost:8080/"
        },
        "id": "icpm2cderetl",
        "outputId": "ba2ed5e3-a364-4fe0-eb6f-b1e66a2485a1"
      },
      "outputs": [
        {
          "output_type": "stream",
          "name": "stdout",
          "text": [
            "Number of chunks in webpage 1: 8\n",
            "Number of chunks in webpage 2: 9\n",
            "\n",
            "Similarity: 0.9360485076904297\n",
            "Section from page 1:\n",
            "------------------------------\n",
            "Run multiple portfolios at a time through our online analytics to instantly stress test and compare performance under different equity markets, rate environments and future scenarios. Customize your report, select the pages you want to include and add your company logo to make it uniquely yours for your next client meeting. This website is a general communication being provided for informational purposes only. It is educational in nature and not designed to be a recommendation for any specific investment product, strategy, plan feature or other purposes. By receiving this communication you agree with the intended purpose described above.\n",
            "------------------------------\n",
            "Section from page 2:\n",
            "------------------------------\n",
            "Why 529 plans? Why J.P. Morgan Asset Management? Explore our 529 plan options: College planning tools and resources 1 J.P. Morgan Asset Management, as of March 31, 2023. 2 ISS Market Intelligence, 529 Industry Analysis 2023. 3 Maximum gifts are $180,000 per beneficiary from married couples filing jointly and $90,000 from single tax filers.\n",
            "------------------------------\n",
            "\n"
          ]
        }
      ],
      "source": [
        "import requests\n",
        "from bs4 import BeautifulSoup\n",
        "from transformers import BertTokenizer, BertModel\n",
        "import torch\n",
        "from sklearn.metrics.pairwise import cosine_similarity\n",
        "\n",
        "# Load pre-trained BERT model and tokenizer\n",
        "tokenizer = BertTokenizer.from_pretrained('bert-base-uncased')\n",
        "model = BertModel.from_pretrained('bert-base-uncased')\n",
        "\n",
        "# Function to extract text from HTML\n",
        "def extract_text_from_html(html):\n",
        "    soup = BeautifulSoup(html, 'html.parser')\n",
        "    paragraphs = soup.find_all('p')\n",
        "    text = ' '.join([p.get_text().strip() for p in paragraphs])\n",
        "    return text\n",
        "\n",
        "# Function to tokenize and embed text using BERT\n",
        "def embed_text(text):\n",
        "    tokenized_input = tokenizer(text, return_tensors=\"pt\", max_length=512, truncation=True)\n",
        "    with torch.no_grad():\n",
        "        outputs = model(**tokenized_input)\n",
        "        embeddings = outputs.last_hidden_state[:, 0, :]  # CLS token embeddings\n",
        "    return embeddings\n",
        "\n",
        "# Function to calculate cosine similarity between two sets of embeddings\n",
        "def calculate_similarity(embeddings1, embeddings2):\n",
        "    return cosine_similarity(embeddings1, embeddings2)\n",
        "\n",
        "import re\n",
        "\n",
        "def split_into_chunks(text):\n",
        "    # Define a regular expression pattern to split text into sentences\n",
        "    sentence_pattern = r'(?<!\\w\\.\\w.)(?<![A-Z][a-z]\\.)(?<=\\.|\\?)\\s'\n",
        "\n",
        "    # Split the text into sentences using the pattern\n",
        "    sentences = re.split(sentence_pattern, text)\n",
        "\n",
        "    # Group sentences into chunks of approximately 5 sentences each\n",
        "    chunk_size = 5\n",
        "    chunks = []\n",
        "    for i in range(0, len(sentences), chunk_size):\n",
        "        chunk = ' '.join(sentences[i:i + chunk_size])\n",
        "        chunks.append(chunk)\n",
        "\n",
        "    return chunks\n",
        "\n",
        "\n",
        "\n",
        "\n",
        "\n",
        "# Function to compare two web pages and find similar sections\n",
        "def compare_web_pages(url1, url2):\n",
        "    # Download HTML content of both pages\n",
        "    html1 = requests.get(url1).text\n",
        "    html2 = requests.get(url2).text\n",
        "\n",
        "    # Extract text from HTML\n",
        "    text1 = extract_text_from_html(html1)\n",
        "    text2 = extract_text_from_html(html2)\n",
        "\n",
        "    # Remove excess white spaces\n",
        "    text1 = ' '.join(text1.split())\n",
        "    text2 = ' '.join(text2.split())\n",
        "\n",
        "    # Split text into smaller chunks (approximately 5 sentences per chunk)\n",
        "    chunks1 = split_into_chunks(text1)\n",
        "    chunks2 = split_into_chunks(text2)\n",
        "\n",
        "    # Embed text chunks using BERT\n",
        "    embeddings1 = embed_text(' '.join(chunks1))\n",
        "    embeddings2 = embed_text(' '.join(chunks2))\n",
        "\n",
        "    # Calculate similarity between embeddings\n",
        "    similarity_matrix = calculate_similarity(embeddings1, embeddings2)\n",
        "\n",
        "    # Find similar sections\n",
        "    similar_sections = []\n",
        "    for i in range(similarity_matrix.shape[0]):\n",
        "        for j in range(similarity_matrix.shape[1]):\n",
        "            if similarity_matrix[i][j] > 0.9:  # Threshold for similarity\n",
        "                similar_sections.append((i, j, similarity_matrix[i][j]))\n",
        "\n",
        "    return similar_sections, chunks1, chunks2\n",
        "\n",
        "# Function to print similar sections with content\n",
        "def print_similar_sections(similar_sections, chunks1, chunks2):\n",
        "    for section in similar_sections:\n",
        "        section_content1 = chunks1[section[0]]\n",
        "        section_content2 = chunks2[section[1]]\n",
        "\n",
        "        print(f\"Similarity: {section[2]}\")\n",
        "        print(\"Section from page 1:\")\n",
        "        print(\"-\" * 30)\n",
        "        print(section_content1)\n",
        "        print(\"-\" * 30)\n",
        "        print(\"Section from page 2:\")\n",
        "        print(\"-\" * 30)\n",
        "        print(section_content2)\n",
        "        print(\"-\" * 30)\n",
        "        print()\n",
        "\n",
        "# Function to print number of chunks in each webpage\n",
        "def print_number_of_chunks(chunks1, chunks2):\n",
        "    print(f\"Number of chunks in webpage 1: {len(chunks1)}\")\n",
        "    print(f\"Number of chunks in webpage 2: {len(chunks2)}\")\n",
        "    print()\n",
        "\n",
        "# Example usage\n",
        "url1 = \"https://am.jpmorgan.com/us/en/asset-management/adv/tools/portfolio-tools/portfolio-analysis/\"\n",
        "url2 = \"https://am.jpmorgan.com/us/en/asset-management/adv/investment-strategies/529-college-savings-plan/\"\n",
        "similar_sections, chunks1, chunks2 = compare_web_pages(url1, url2)\n",
        "\n",
        "# Print number of chunks in each webpage\n",
        "print_number_of_chunks(chunks1, chunks2)\n",
        "\n",
        "# Print similar sections\n",
        "print_similar_sections(similar_sections, chunks1, chunks2)"
      ]
    },
    {
      "cell_type": "code",
      "source": [
        "rm -r *"
      ],
      "metadata": {
        "id": "YPLLZhfysKQP"
      },
      "execution_count": 5,
      "outputs": []
    },
    {
      "cell_type": "code",
      "source": [
        "pip install fitz frontend pymupdf spacy"
      ],
      "metadata": {
        "colab": {
          "base_uri": "https://localhost:8080/"
        },
        "id": "uFiaRR0rF5zO",
        "outputId": "56308a4d-35d3-4777-8834-08177c04e313"
      },
      "execution_count": 22,
      "outputs": [
        {
          "output_type": "stream",
          "name": "stdout",
          "text": [
            "Requirement already satisfied: fitz in /usr/local/lib/python3.10/dist-packages (0.0.1.dev2)\n",
            "Requirement already satisfied: frontend in /usr/local/lib/python3.10/dist-packages (0.0.3)\n",
            "Collecting pymupdf\n",
            "  Downloading PyMuPDF-1.24.4-cp310-none-manylinux2014_x86_64.whl (3.5 MB)\n",
            "\u001b[2K     \u001b[90m━━━━━━━━━━━━━━━━━━━━━━━━━━━━━━━━━━━━━━━━\u001b[0m \u001b[32m3.5/3.5 MB\u001b[0m \u001b[31m17.6 MB/s\u001b[0m eta \u001b[36m0:00:00\u001b[0m\n",
            "\u001b[?25hRequirement already satisfied: configobj in /usr/local/lib/python3.10/dist-packages (from fitz) (5.0.8)\n",
            "Requirement already satisfied: configparser in /usr/local/lib/python3.10/dist-packages (from fitz) (7.0.0)\n",
            "Requirement already satisfied: httplib2 in /usr/local/lib/python3.10/dist-packages (from fitz) (0.22.0)\n",
            "Requirement already satisfied: nibabel in /usr/local/lib/python3.10/dist-packages (from fitz) (4.0.2)\n",
            "Requirement already satisfied: nipype in /usr/local/lib/python3.10/dist-packages (from fitz) (1.8.6)\n",
            "Requirement already satisfied: numpy in /usr/local/lib/python3.10/dist-packages (from fitz) (1.25.2)\n",
            "Requirement already satisfied: pandas in /usr/local/lib/python3.10/dist-packages (from fitz) (2.0.3)\n",
            "Requirement already satisfied: pyxnat in /usr/local/lib/python3.10/dist-packages (from fitz) (1.6.2)\n",
            "Requirement already satisfied: scipy in /usr/local/lib/python3.10/dist-packages (from fitz) (1.11.4)\n",
            "Requirement already satisfied: starlette>=0.12.0 in /usr/local/lib/python3.10/dist-packages (from frontend) (0.37.2)\n",
            "Requirement already satisfied: uvicorn>=0.7.1 in /usr/local/lib/python3.10/dist-packages (from frontend) (0.29.0)\n",
            "Requirement already satisfied: itsdangerous>=1.1.0 in /usr/local/lib/python3.10/dist-packages (from frontend) (2.2.0)\n",
            "Requirement already satisfied: aiofiles in /usr/local/lib/python3.10/dist-packages (from frontend) (23.2.1)\n",
            "Collecting PyMuPDFb==1.24.3 (from pymupdf)\n",
            "  Downloading PyMuPDFb-1.24.3-py3-none-manylinux2014_x86_64.manylinux_2_17_x86_64.whl (15.8 MB)\n",
            "\u001b[2K     \u001b[90m━━━━━━━━━━━━━━━━━━━━━━━━━━━━━━━━━━━━━━━━\u001b[0m \u001b[32m15.8/15.8 MB\u001b[0m \u001b[31m18.3 MB/s\u001b[0m eta \u001b[36m0:00:00\u001b[0m\n",
            "\u001b[?25hRequirement already satisfied: anyio<5,>=3.4.0 in /usr/local/lib/python3.10/dist-packages (from starlette>=0.12.0->frontend) (3.7.1)\n",
            "Requirement already satisfied: click>=7.0 in /usr/local/lib/python3.10/dist-packages (from uvicorn>=0.7.1->frontend) (8.1.7)\n",
            "Requirement already satisfied: h11>=0.8 in /usr/local/lib/python3.10/dist-packages (from uvicorn>=0.7.1->frontend) (0.14.0)\n",
            "Requirement already satisfied: typing-extensions>=4.0 in /usr/local/lib/python3.10/dist-packages (from uvicorn>=0.7.1->frontend) (4.11.0)\n",
            "Requirement already satisfied: six in /usr/local/lib/python3.10/dist-packages (from configobj->fitz) (1.16.0)\n",
            "Requirement already satisfied: pyparsing!=3.0.0,!=3.0.1,!=3.0.2,!=3.0.3,<4,>=2.4.2 in /usr/local/lib/python3.10/dist-packages (from httplib2->fitz) (3.1.2)\n",
            "Requirement already satisfied: packaging>=17.0 in /usr/local/lib/python3.10/dist-packages (from nibabel->fitz) (24.0)\n",
            "Requirement already satisfied: setuptools in /usr/local/lib/python3.10/dist-packages (from nibabel->fitz) (67.7.2)\n",
            "Requirement already satisfied: networkx>=2.0 in /usr/local/lib/python3.10/dist-packages (from nipype->fitz) (3.3)\n",
            "Requirement already satisfied: prov>=1.5.2 in /usr/local/lib/python3.10/dist-packages (from nipype->fitz) (2.0.0)\n",
            "Requirement already satisfied: pydot>=1.2.3 in /usr/local/lib/python3.10/dist-packages (from nipype->fitz) (1.4.2)\n",
            "Requirement already satisfied: python-dateutil>=2.2 in /usr/local/lib/python3.10/dist-packages (from nipype->fitz) (2.8.2)\n",
            "Requirement already satisfied: rdflib>=5.0.0 in /usr/local/lib/python3.10/dist-packages (from nipype->fitz) (7.0.0)\n",
            "Requirement already satisfied: simplejson>=3.8.0 in /usr/local/lib/python3.10/dist-packages (from nipype->fitz) (3.19.2)\n",
            "Requirement already satisfied: traits!=5.0,<6.4,>=4.6 in /usr/local/lib/python3.10/dist-packages (from nipype->fitz) (6.3.2)\n",
            "Requirement already satisfied: filelock>=3.0.0 in /usr/local/lib/python3.10/dist-packages (from nipype->fitz) (3.14.0)\n",
            "Requirement already satisfied: etelemetry>=0.2.0 in /usr/local/lib/python3.10/dist-packages (from nipype->fitz) (0.3.1)\n",
            "Requirement already satisfied: looseversion in /usr/local/lib/python3.10/dist-packages (from nipype->fitz) (1.3.0)\n",
            "Requirement already satisfied: pytz>=2020.1 in /usr/local/lib/python3.10/dist-packages (from pandas->fitz) (2023.4)\n",
            "Requirement already satisfied: tzdata>=2022.1 in /usr/local/lib/python3.10/dist-packages (from pandas->fitz) (2024.1)\n",
            "Requirement already satisfied: lxml>=4.3 in /usr/local/lib/python3.10/dist-packages (from pyxnat->fitz) (4.9.4)\n",
            "Requirement already satisfied: requests>=2.20 in /usr/local/lib/python3.10/dist-packages (from pyxnat->fitz) (2.31.0)\n",
            "Requirement already satisfied: pathlib>=1.0 in /usr/local/lib/python3.10/dist-packages (from pyxnat->fitz) (1.0.1)\n",
            "Requirement already satisfied: idna>=2.8 in /usr/local/lib/python3.10/dist-packages (from anyio<5,>=3.4.0->starlette>=0.12.0->frontend) (3.7)\n",
            "Requirement already satisfied: sniffio>=1.1 in /usr/local/lib/python3.10/dist-packages (from anyio<5,>=3.4.0->starlette>=0.12.0->frontend) (1.3.1)\n",
            "Requirement already satisfied: exceptiongroup in /usr/local/lib/python3.10/dist-packages (from anyio<5,>=3.4.0->starlette>=0.12.0->frontend) (1.2.1)\n",
            "Requirement already satisfied: ci-info>=0.2 in /usr/local/lib/python3.10/dist-packages (from etelemetry>=0.2.0->nipype->fitz) (0.3.0)\n",
            "Requirement already satisfied: isodate<0.7.0,>=0.6.0 in /usr/local/lib/python3.10/dist-packages (from rdflib>=5.0.0->nipype->fitz) (0.6.1)\n",
            "Requirement already satisfied: charset-normalizer<4,>=2 in /usr/local/lib/python3.10/dist-packages (from requests>=2.20->pyxnat->fitz) (3.3.2)\n",
            "Requirement already satisfied: urllib3<3,>=1.21.1 in /usr/local/lib/python3.10/dist-packages (from requests>=2.20->pyxnat->fitz) (2.0.7)\n",
            "Requirement already satisfied: certifi>=2017.4.17 in /usr/local/lib/python3.10/dist-packages (from requests>=2.20->pyxnat->fitz) (2024.2.2)\n",
            "Installing collected packages: PyMuPDFb, pymupdf\n",
            "Successfully installed PyMuPDFb-1.24.3 pymupdf-1.24.4\n"
          ]
        }
      ]
    },
    {
      "cell_type": "code",
      "source": [
        "import requests\n",
        "from bs4 import BeautifulSoup\n",
        "\n",
        "# Function to extract text from HTML, excluding footer content\n",
        "def extract_text_from_html(html):\n",
        "    soup = BeautifulSoup(html, 'html.parser')\n",
        "\n",
        "    # Remove footer elements\n",
        "    footer_elements = soup.find_all(\"footer\")\n",
        "    for footer_element in footer_elements:\n",
        "        footer_element.extract()\n",
        "\n",
        "    # Extract text from remaining elements\n",
        "    paragraphs = soup.find_all('p')\n",
        "    text = ' '.join([p.get_text().strip() for p in paragraphs])\n",
        "    return text\n",
        "\n",
        "# URL of the webpage\n",
        "url = \"https://am.jpmorgan.com/gb/en/asset-management/adv/investment-themes/sustainable-investing/climate-change/\"\n",
        "\n",
        "# Make a request to the URL\n",
        "response = requests.get(url)\n",
        "html_content = response.text\n",
        "\n",
        "# Extract text from HTML\n",
        "text_content = extract_text_from_html(html_content)\n",
        "\n",
        "# Print the extracted text\n",
        "print(text_content)\n"
      ],
      "metadata": {
        "colab": {
          "base_uri": "https://localhost:8080/"
        },
        "id": "eTu7zGJ_F7Gd",
        "outputId": "c10aa909-de4c-4284-a685-cba27f020080"
      },
      "execution_count": 64,
      "outputs": [
        {
          "output_type": "stream",
          "name": "stdout",
          "text": [
            " Climate change  Climate change is the paradigm shift of our century. It brings significant risks to our society, but also creates unparalleled opportunity to invest for the long term and prosper.\r\n",
            "Momentum is growing for ambitious carbon transition policies that will create winners and losers across companies, sectors and markets. Climate change investment risks: What investors need to focus on now Climate change remains a dominant theme in sustainable investing, as investors look to take account of climate risk in portfolios and contribute to a more sustainable future. There are three key climate change investment risks that investors can focus on now if they want to support long-term climate change solutions. Find out more  Climate change is one of our six investment stewardship priorities. Find out how we use active ownership to address risks and opportunities through direct engagement with companies on climate change. Striving for a new level of climate transparency and disclosure We offer sustainable funds across asset classes, from funds excluding unsustainable sectors to those targeting particular sustainability themes. Our insights explore the implications of ESG risks and opportunities for investors. As a firm, we are adopting a financing commitment that is aligned to the goals of the Paris Agreement.\n"
          ]
        }
      ]
    },
    {
      "cell_type": "code",
      "source": [],
      "metadata": {
        "id": "qlGoFoJ52Ntx"
      },
      "execution_count": null,
      "outputs": []
    }
  ]
}