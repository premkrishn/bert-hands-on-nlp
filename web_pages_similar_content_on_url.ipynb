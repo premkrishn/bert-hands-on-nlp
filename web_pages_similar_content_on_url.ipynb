{
  "nbformat": 4,
  "nbformat_minor": 0,
  "metadata": {
    "colab": {
      "provenance": [],
      "authorship_tag": "ABX9TyO/bS/CNbN6y48wEOPx9OaF",
      "include_colab_link": true
    },
    "kernelspec": {
      "name": "python3",
      "display_name": "Python 3"
    },
    "language_info": {
      "name": "python"
    }
  },
  "cells": [
    {
      "cell_type": "markdown",
      "metadata": {
        "id": "view-in-github",
        "colab_type": "text"
      },
      "source": [
        "<a href=\"https://colab.research.google.com/github/premkrishn/bert-hands-on-nlp/blob/main/web_pages_similar_content_on_url.ipynb\" target=\"_parent\"><img src=\"https://colab.research.google.com/assets/colab-badge.svg\" alt=\"Open In Colab\"/></a>"
      ]
    },
    {
      "cell_type": "code",
      "execution_count": 50,
      "metadata": {
        "colab": {
          "base_uri": "https://localhost:8080/"
        },
        "id": "icpm2cderetl",
        "outputId": "95744327-ecc0-4c4f-ca27-259921781dec"
      },
      "outputs": [
        {
          "output_type": "stream",
          "name": "stderr",
          "text": [
            "<ipython-input-50-024cdd56deda>:14: DeprecationWarning: The 'text' argument to find()-type methods is deprecated. Use 'string' instead.\n",
            "  text = ' '.join([elem.get_text().strip() for elem in soup.find_all(text=True)])\n"
          ]
        },
        {
          "output_type": "stream",
          "name": "stdout",
          "text": [
            "Similarity: 0.6593672037124634\n",
            "Section from page 1:\n",
            "------------------------------\n",
            "Portfolio Analysis | J.P. Morgan Asset Management Skip to main content Financial Professional Login Welcome Log in for exclusive access and a personalized experience Log in Sign up Benefits of creating a free account Customize our Guide to the Markets and unlock bonus slides Utilize our award-winning Portfolio Construction and Retirement Planning Tools Access expert commentary from Dr. David Kelly and more... Hello My Collections View saved content and presentation slides My Subscriptions Manage my subscription preferences Products Overview Products Mutual Funds ETFs SmartRetirement Funds 529 Portfolios Alternatives Separately Managed Accounts Money Market Funds Commingled Funds Featured Funds Asset Class Capabilities Fixed Income Equity Multi-Asset Solutions Alternatives Global Liquidity Investment Strategies Overview Investment Approach ETF Investing Model Portfolios Separately Managed Accounts Sustainable Investing Commingled Pension Trust Funds Education Savings 529 Plan Solutions College Planning Essentials Defined Contribution Target Date Strategies Startup and Micro 401(k) Plan Solutions Small to Mid-market 401(k) Plan Solutions Insights Overview Market Insights Market Insights Overview Guide to the Markets Quarterly Economic & Market Update Guide to Alternatives Market Updates On the Minds of Investors Principles for Successful Long-Term Investing Weekly Market Recap Portfolio Insights Portfolio Insights Overview Asset Class Views Equity Fixed Income Alternatives Long-Term Capital Market Assumptions Multi-Asset Solutions Strategy Report Strategic Investment Advisory Group Retirement Insights Retirement Insights Overview Guide to Retirement Principles for a Successful Retirement Tools Overview Portfolio Construction Portfolio Construction Tools Overview Portfolio Analysis Model Portfolios Investment Comparison Bond Ladder Illustrator Defined Contribution Retirement Plan Tools & Resources Overview Target Date Compass® Core Menu Evaluator℠ Price Smart℠ Resources Overview Account Service Forms Tax Center News & Fund Announcements Insights App Events Library Market Response Center Artificial Intelligence About Us Overview Diversity, Equity, & Inclusion How we invest Media Resources Our Leadership Team Contact Us Role Country Shareholder Login Hello My Collections View saved content and presentation slides My Subscriptions Manage my subscription preferences Log out Financial Professional Login Welcome Log in for exclusive access and a personalized experience Log in Sign up Benefits of creating a free account Customize our Guide to the Markets and unlock bonus slides Utilize our award-winning Portfolio Construction and Retirement Planning Tools Access expert commentary from Dr. David Kelly and more... Log out Search Menu Search You are about to leave the site Close J.P. Morgan Asset Management’s website and/or mobile terms, privacy and security policies don't apply to the site or app you're about to visit. Please review its terms, privacy and security policies to see how they apply to you. J.P. Morgan Asset Management isn’t responsible for (and doesn't provide) any products, services or content at this third-party site or app, except for products and services that explicitly carry the J.P. Morgan Asset Management name. CONTINUE Go Back Home | US Financial Professionals Investment & Portfolio Management Tools Portfolio Construction Tools Portfolio analytics designed with your needs in mind Invest with more certainty in uncertain times Run multiple portfolios at a time through our online analytics to instantly stress test and compare performance under different equity markets, rate environments and future scenarios. Create customized client ready reports Customize your report, select the pages you want to include and add your company logo to make it uniquely yours for your next client meeting. Run custom portfolio analytics in no time, at no cost Analyze your portfolio More portfolio construction tools J.P. Morgan Asset Management Capital Gains Distributions eDelivery Fund Documents Glossary Help How to invest Important Links Mutual Fund Fee Calculator Accessibility Form CRS and Form ADV Brochures Investment stewardship J.P. Morgan Funds U.S. Consumer Privacy Notice J.P. Morgan Online Privacy Policy Proxy Information Senior Officer Fee Summary SIMPLE IRAs Site disclaimer Terms of use J.P. Morgan J.P. Morgan JPMorgan Chase Chase This website is a general communication being provided for informational purposes only. It is educational in nature and not designed to be a recommendation for any specific investment product, strategy, plan feature or other purposes. By receiving this communication you agree with the intended purpose described above. Any examples used in this material are generic, hypothetical and for illustration purposes only. None of J.P. Morgan Asset Management, its affiliates or representatives is suggesting that the recipient or any other person take a specific course of action or any action at all. Communications such as this are not impartial and are provided in connection with the advertising and marketing of products and services. Prior to making any investment or financial decisions, an investor should seek individualized advice from personal financial, legal, tax and other professionals that take into account all of the particular facts and circumstances of an investor's own situation. Variable annuity guarantees are only as good as the insurance company that gives them. While it is an uncommon occurrence that the insurance companies that back these guarantees are unable to meet their obligations, it may happen. Annuity withdrawals prior to 59½ may be subject to tax penalties, are subject to market risk and may lose value. Riders have additional fees and costs associated with them, and are subject to additional conditions, restrictions, and limitations. Opinions and statements of financial market trends that are based on current market conditions constitute our judgment and are subject to change without notice. We believe the information provided here is reliable but should not be assumed to be accurate or complete. The views and strategies described may not be suitable for all investors. INFORMATION REGARDING MUTUAL FUNDS/ETF: Investors should carefully consider the investment objectives and risks as well as charges and expenses of a mutual fund or ETF before investing. The summary and full prospectuses contain this and other information about the mutual fund or ETF and should be read carefully before investing. To obtain a prospectus for Mutual Funds: Contact JPMorgan Distribution Services, Inc. at 1-800-480-4111 or download it from this site. Exchange Traded Funds: Call 1-844-4JPM-ETF or download it from this site. J.P. Morgan Funds and J.P. Morgan ETFs are distributed by JPMorgan Distribution Services, Inc. JPMorgan Private Markets Fund is distributed by J.P. Morgan Institutional Investments Inc. Both are affiliates of JPMorgan Chase & Co. Affiliates of JPMorgan Chase & Co. receive fees for providing various services to the funds. JPMorgan Distribution Services, Inc. is a member of FINRA FINRA's BrokerCheck INFORMATION REGARDING COMMINGLED FUNDS: For additional information regarding the Commingled Pension Trust Funds of JPMorgan Chase Bank, N.A., please contact your J.P. Morgan Asset Management representative. The Commingled Pension Trust Funds of JPMorgan Chase Bank N.A. are collective trust funds established and maintained by JPMorgan Chase Bank, N.A. under a declaration of trust. The funds are not required to file a prospectus or registration statement with the SEC, and accordingly, neither is available. The funds are available only to certain qualified retirement plans and governmental plans and is not offered to the general public. Units of the funds are not bank deposits and are not insured or guaranteed by any bank, government entity, the FDIC or any other type of deposit insurance. You should carefully consider the investment objectives, risk, charges, and expenses of the fund before investing. INFORMATION FOR ALL SITE USERS: J.P. Morgan Asset Management is the brand name for the asset management business of JPMorgan Chase & Co. and its affiliates worldwide. NOT FDIC INSURED | NO BANK GUARANTEE | MAY LOSE VALUE Telephone calls and electronic communications may be monitored and/or recorded. Personal data will be collected, stored and processed by J.P. Morgan Asset Management in accordance with our privacy policies at https://www.jpmorgan.com/privacy . If you are a person with a disability and need additional support in viewing the material, please call us at 1-800-343-1113 for assistance. Copyright © 2024 JPMorgan Chase & Co., All rights reserved\n",
            "------------------------------\n",
            "Section from page 2:\n",
            "------------------------------\n",
            "Investment Comparison Skip to main content You need to enable JavaScript to run this app. Loading...\n",
            "------------------------------\n",
            "\n"
          ]
        }
      ],
      "source": [
        "import requests\n",
        "from bs4 import BeautifulSoup\n",
        "from transformers import BertTokenizer, BertModel\n",
        "import torch\n",
        "from sklearn.metrics.pairwise import cosine_similarity\n",
        "\n",
        "# Load pre-trained BERT model and tokenizer\n",
        "tokenizer = BertTokenizer.from_pretrained('bert-base-uncased')\n",
        "model = BertModel.from_pretrained('bert-base-uncased')\n",
        "\n",
        "# Function to extract text from HTML\n",
        "def extract_text_from_html(html):\n",
        "    soup = BeautifulSoup(html, 'html.parser')\n",
        "    text = ' '.join([elem.get_text().strip() for elem in soup.find_all(text=True)])\n",
        "    return text\n",
        "\n",
        "# Function to tokenize and embed text using BERT\n",
        "def embed_text(text):\n",
        "    tokenized_input = tokenizer(text, return_tensors=\"pt\", max_length=512, truncation=True)\n",
        "    with torch.no_grad():\n",
        "        outputs = model(**tokenized_input)\n",
        "        embeddings = outputs.last_hidden_state[:, 0, :]  # CLS token embeddings\n",
        "    return embeddings\n",
        "\n",
        "# Function to calculate cosine similarity between two sets of embeddings\n",
        "def calculate_similarity(embeddings1, embeddings2):\n",
        "    return cosine_similarity(embeddings1, embeddings2)\n",
        "\n",
        "# Function to compare two web pages and find similar sections\n",
        "def compare_web_pages(url1, url2):\n",
        "    # Download HTML content of both pages\n",
        "    html1 = requests.get(url1).text\n",
        "    html2 = requests.get(url2).text\n",
        "\n",
        "    # Extract text from HTML\n",
        "    text1 = extract_text_from_html(html1)\n",
        "    text2 = extract_text_from_html(html2)\n",
        "\n",
        "    # Remove excess white spaces\n",
        "    text1 = ' '.join(text1.split())\n",
        "    text2 = ' '.join(text2.split())\n",
        "\n",
        "    # Split text into smaller chunks (at paragraph level)\n",
        "    chunks1 = text1.split('\\n\\n')\n",
        "    chunks2 = text2.split('\\n\\n')\n",
        "\n",
        "    # Embed text chunks using BERT\n",
        "    embeddings1 = embed_text(' '.join(chunks1))\n",
        "    embeddings2 = embed_text(' '.join(chunks2))\n",
        "\n",
        "    # Calculate similarity between embeddings\n",
        "    similarity_matrix = calculate_similarity(embeddings1, embeddings2)\n",
        "\n",
        "    # Find similar sections\n",
        "    similar_sections = []\n",
        "    for i in range(similarity_matrix.shape[0]):\n",
        "        for j in range(similarity_matrix.shape[1]):\n",
        "            if similarity_matrix[i][j] > 0.5:  # Threshold for similarity\n",
        "                similar_sections.append((i, j, similarity_matrix[i][j]))\n",
        "\n",
        "    return similar_sections, chunks1, chunks2\n",
        "\n",
        "# Function to print similar sections with content\n",
        "def print_similar_sections(similar_sections, chunks1, chunks2):\n",
        "    for section in similar_sections:\n",
        "        section_content1 = chunks1[section[0]]\n",
        "        section_content2 = chunks2[section[1]]\n",
        "\n",
        "        print(f\"Similarity: {section[2]}\")\n",
        "        print(\"Section from page 1:\")\n",
        "        print(\"-\" * 30)\n",
        "        print(section_content1)\n",
        "        print(\"-\" * 30)\n",
        "        print(\"Section from page 2:\")\n",
        "        print(\"-\" * 30)\n",
        "        print(section_content2)\n",
        "        print(\"-\" * 30)\n",
        "        print()\n",
        "\n",
        "# Example usage\n",
        "url1 = \"https://am.jpmorgan.com/us/en/asset-management/adv/tools/portfolio-tools/portfolio-analysis/\"\n",
        "url2 = \"https://am.jpmorgan.com/tools/dt-ic/\"\n",
        "similar_sections, chunks1, chunks2 = compare_web_pages(url1, url2)\n",
        "\n",
        "# Print similar sections\n",
        "print_similar_sections(similar_sections, chunks1, chunks2)\n"
      ]
    },
    {
      "cell_type": "code",
      "source": [
        "ls"
      ],
      "metadata": {
        "colab": {
          "base_uri": "https://localhost:8080/"
        },
        "id": "tRHUz2WirjZS",
        "outputId": "ec64416c-252e-4f8d-96c7-1ce4f832cf07"
      },
      "execution_count": 46,
      "outputs": [
        {
          "output_type": "stream",
          "name": "stdout",
          "text": [
            "\u001b[0m\u001b[01;34mdownloads\u001b[0m/  \u001b[01;34metfs\u001b[0m/  FS-LCG-A.pdf  \u001b[01;34mmutual_funds\u001b[0m/  \u001b[01;34mprospectuses\u001b[0m/  webpage_text.txt\n"
          ]
        }
      ]
    },
    {
      "cell_type": "code",
      "source": [
        "rm -r *"
      ],
      "metadata": {
        "id": "YPLLZhfysKQP"
      },
      "execution_count": 5,
      "outputs": []
    },
    {
      "cell_type": "code",
      "source": [
        "pip install fitz frontend pymupdf"
      ],
      "metadata": {
        "colab": {
          "base_uri": "https://localhost:8080/"
        },
        "id": "uFiaRR0rF5zO",
        "outputId": "56308a4d-35d3-4777-8834-08177c04e313"
      },
      "execution_count": 22,
      "outputs": [
        {
          "output_type": "stream",
          "name": "stdout",
          "text": [
            "Requirement already satisfied: fitz in /usr/local/lib/python3.10/dist-packages (0.0.1.dev2)\n",
            "Requirement already satisfied: frontend in /usr/local/lib/python3.10/dist-packages (0.0.3)\n",
            "Collecting pymupdf\n",
            "  Downloading PyMuPDF-1.24.4-cp310-none-manylinux2014_x86_64.whl (3.5 MB)\n",
            "\u001b[2K     \u001b[90m━━━━━━━━━━━━━━━━━━━━━━━━━━━━━━━━━━━━━━━━\u001b[0m \u001b[32m3.5/3.5 MB\u001b[0m \u001b[31m17.6 MB/s\u001b[0m eta \u001b[36m0:00:00\u001b[0m\n",
            "\u001b[?25hRequirement already satisfied: configobj in /usr/local/lib/python3.10/dist-packages (from fitz) (5.0.8)\n",
            "Requirement already satisfied: configparser in /usr/local/lib/python3.10/dist-packages (from fitz) (7.0.0)\n",
            "Requirement already satisfied: httplib2 in /usr/local/lib/python3.10/dist-packages (from fitz) (0.22.0)\n",
            "Requirement already satisfied: nibabel in /usr/local/lib/python3.10/dist-packages (from fitz) (4.0.2)\n",
            "Requirement already satisfied: nipype in /usr/local/lib/python3.10/dist-packages (from fitz) (1.8.6)\n",
            "Requirement already satisfied: numpy in /usr/local/lib/python3.10/dist-packages (from fitz) (1.25.2)\n",
            "Requirement already satisfied: pandas in /usr/local/lib/python3.10/dist-packages (from fitz) (2.0.3)\n",
            "Requirement already satisfied: pyxnat in /usr/local/lib/python3.10/dist-packages (from fitz) (1.6.2)\n",
            "Requirement already satisfied: scipy in /usr/local/lib/python3.10/dist-packages (from fitz) (1.11.4)\n",
            "Requirement already satisfied: starlette>=0.12.0 in /usr/local/lib/python3.10/dist-packages (from frontend) (0.37.2)\n",
            "Requirement already satisfied: uvicorn>=0.7.1 in /usr/local/lib/python3.10/dist-packages (from frontend) (0.29.0)\n",
            "Requirement already satisfied: itsdangerous>=1.1.0 in /usr/local/lib/python3.10/dist-packages (from frontend) (2.2.0)\n",
            "Requirement already satisfied: aiofiles in /usr/local/lib/python3.10/dist-packages (from frontend) (23.2.1)\n",
            "Collecting PyMuPDFb==1.24.3 (from pymupdf)\n",
            "  Downloading PyMuPDFb-1.24.3-py3-none-manylinux2014_x86_64.manylinux_2_17_x86_64.whl (15.8 MB)\n",
            "\u001b[2K     \u001b[90m━━━━━━━━━━━━━━━━━━━━━━━━━━━━━━━━━━━━━━━━\u001b[0m \u001b[32m15.8/15.8 MB\u001b[0m \u001b[31m18.3 MB/s\u001b[0m eta \u001b[36m0:00:00\u001b[0m\n",
            "\u001b[?25hRequirement already satisfied: anyio<5,>=3.4.0 in /usr/local/lib/python3.10/dist-packages (from starlette>=0.12.0->frontend) (3.7.1)\n",
            "Requirement already satisfied: click>=7.0 in /usr/local/lib/python3.10/dist-packages (from uvicorn>=0.7.1->frontend) (8.1.7)\n",
            "Requirement already satisfied: h11>=0.8 in /usr/local/lib/python3.10/dist-packages (from uvicorn>=0.7.1->frontend) (0.14.0)\n",
            "Requirement already satisfied: typing-extensions>=4.0 in /usr/local/lib/python3.10/dist-packages (from uvicorn>=0.7.1->frontend) (4.11.0)\n",
            "Requirement already satisfied: six in /usr/local/lib/python3.10/dist-packages (from configobj->fitz) (1.16.0)\n",
            "Requirement already satisfied: pyparsing!=3.0.0,!=3.0.1,!=3.0.2,!=3.0.3,<4,>=2.4.2 in /usr/local/lib/python3.10/dist-packages (from httplib2->fitz) (3.1.2)\n",
            "Requirement already satisfied: packaging>=17.0 in /usr/local/lib/python3.10/dist-packages (from nibabel->fitz) (24.0)\n",
            "Requirement already satisfied: setuptools in /usr/local/lib/python3.10/dist-packages (from nibabel->fitz) (67.7.2)\n",
            "Requirement already satisfied: networkx>=2.0 in /usr/local/lib/python3.10/dist-packages (from nipype->fitz) (3.3)\n",
            "Requirement already satisfied: prov>=1.5.2 in /usr/local/lib/python3.10/dist-packages (from nipype->fitz) (2.0.0)\n",
            "Requirement already satisfied: pydot>=1.2.3 in /usr/local/lib/python3.10/dist-packages (from nipype->fitz) (1.4.2)\n",
            "Requirement already satisfied: python-dateutil>=2.2 in /usr/local/lib/python3.10/dist-packages (from nipype->fitz) (2.8.2)\n",
            "Requirement already satisfied: rdflib>=5.0.0 in /usr/local/lib/python3.10/dist-packages (from nipype->fitz) (7.0.0)\n",
            "Requirement already satisfied: simplejson>=3.8.0 in /usr/local/lib/python3.10/dist-packages (from nipype->fitz) (3.19.2)\n",
            "Requirement already satisfied: traits!=5.0,<6.4,>=4.6 in /usr/local/lib/python3.10/dist-packages (from nipype->fitz) (6.3.2)\n",
            "Requirement already satisfied: filelock>=3.0.0 in /usr/local/lib/python3.10/dist-packages (from nipype->fitz) (3.14.0)\n",
            "Requirement already satisfied: etelemetry>=0.2.0 in /usr/local/lib/python3.10/dist-packages (from nipype->fitz) (0.3.1)\n",
            "Requirement already satisfied: looseversion in /usr/local/lib/python3.10/dist-packages (from nipype->fitz) (1.3.0)\n",
            "Requirement already satisfied: pytz>=2020.1 in /usr/local/lib/python3.10/dist-packages (from pandas->fitz) (2023.4)\n",
            "Requirement already satisfied: tzdata>=2022.1 in /usr/local/lib/python3.10/dist-packages (from pandas->fitz) (2024.1)\n",
            "Requirement already satisfied: lxml>=4.3 in /usr/local/lib/python3.10/dist-packages (from pyxnat->fitz) (4.9.4)\n",
            "Requirement already satisfied: requests>=2.20 in /usr/local/lib/python3.10/dist-packages (from pyxnat->fitz) (2.31.0)\n",
            "Requirement already satisfied: pathlib>=1.0 in /usr/local/lib/python3.10/dist-packages (from pyxnat->fitz) (1.0.1)\n",
            "Requirement already satisfied: idna>=2.8 in /usr/local/lib/python3.10/dist-packages (from anyio<5,>=3.4.0->starlette>=0.12.0->frontend) (3.7)\n",
            "Requirement already satisfied: sniffio>=1.1 in /usr/local/lib/python3.10/dist-packages (from anyio<5,>=3.4.0->starlette>=0.12.0->frontend) (1.3.1)\n",
            "Requirement already satisfied: exceptiongroup in /usr/local/lib/python3.10/dist-packages (from anyio<5,>=3.4.0->starlette>=0.12.0->frontend) (1.2.1)\n",
            "Requirement already satisfied: ci-info>=0.2 in /usr/local/lib/python3.10/dist-packages (from etelemetry>=0.2.0->nipype->fitz) (0.3.0)\n",
            "Requirement already satisfied: isodate<0.7.0,>=0.6.0 in /usr/local/lib/python3.10/dist-packages (from rdflib>=5.0.0->nipype->fitz) (0.6.1)\n",
            "Requirement already satisfied: charset-normalizer<4,>=2 in /usr/local/lib/python3.10/dist-packages (from requests>=2.20->pyxnat->fitz) (3.3.2)\n",
            "Requirement already satisfied: urllib3<3,>=1.21.1 in /usr/local/lib/python3.10/dist-packages (from requests>=2.20->pyxnat->fitz) (2.0.7)\n",
            "Requirement already satisfied: certifi>=2017.4.17 in /usr/local/lib/python3.10/dist-packages (from requests>=2.20->pyxnat->fitz) (2024.2.2)\n",
            "Installing collected packages: PyMuPDFb, pymupdf\n",
            "Successfully installed PyMuPDFb-1.24.3 pymupdf-1.24.4\n"
          ]
        }
      ]
    },
    {
      "cell_type": "code",
      "source": [],
      "metadata": {
        "id": "eTu7zGJ_F7Gd"
      },
      "execution_count": null,
      "outputs": []
    }
  ]
}