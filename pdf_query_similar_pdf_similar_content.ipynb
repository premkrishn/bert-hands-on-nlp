{
  "nbformat": 4,
  "nbformat_minor": 0,
  "metadata": {
    "colab": {
      "provenance": [],
      "authorship_tag": "ABX9TyPC8cRKR6GNNFViEp9ysbdh",
      "include_colab_link": true
    },
    "kernelspec": {
      "name": "python3",
      "display_name": "Python 3"
    },
    "language_info": {
      "name": "python"
    }
  },
  "cells": [
    {
      "cell_type": "markdown",
      "metadata": {
        "id": "view-in-github",
        "colab_type": "text"
      },
      "source": [
        "<a href=\"https://colab.research.google.com/github/premkrishn/bert-hands-on-nlp/blob/main/pdf_query_similar_pdf_similar_content.ipynb\" target=\"_parent\"><img src=\"https://colab.research.google.com/assets/colab-badge.svg\" alt=\"Open In Colab\"/></a>"
      ]
    },
    {
      "cell_type": "code",
      "execution_count": 16,
      "metadata": {
        "colab": {
          "base_uri": "https://localhost:8080/"
        },
        "id": "icpm2cderetl",
        "outputId": "bee13ab1-60c2-4790-b775-941f8b98efb8"
      },
      "outputs": [
        {
          "output_type": "stream",
          "name": "stdout",
          "text": [
            "PDF file downloaded successfully.\n"
          ]
        }
      ],
      "source": [
        "import requests\n",
        "\n",
        "# URL of the PDF file\n",
        "url = \"https://am.jpmorgan.com/content/dam/jpm-am-aem/americas/us/en/literature/fact-sheet/us-equity/FS-LCG-A.PDF\"\n",
        "\n",
        "# Send a GET request to the URL\n",
        "response = requests.get(url)\n",
        "\n",
        "# Check if the request was successful (status code 200)\n",
        "if response.status_code == 200:\n",
        "    # Content of the PDF file\n",
        "    pdf_content = response.content\n",
        "\n",
        "    # Save the PDF content to a file\n",
        "    with open(\"FS-LCG-A.pdf\", \"wb\") as pdf_file:\n",
        "        pdf_file.write(pdf_content)\n",
        "    print(\"PDF file downloaded successfully.\")\n",
        "else:\n",
        "    print(\"Failed to download the PDF file.\")\n"
      ]
    },
    {
      "cell_type": "code",
      "source": [
        "import fitz  # PyMuPDF\n",
        "from transformers import BertTokenizer, BertModel\n",
        "import torch\n",
        "from sklearn.metrics.pairwise import cosine_similarity\n",
        "\n",
        "# Load pre-trained BERT model and tokenizer\n",
        "tokenizer = BertTokenizer.from_pretrained('bert-base-uncased')\n",
        "model = BertModel.from_pretrained('bert-base-uncased')\n",
        "\n",
        "# Read PDF file and extract text\n",
        "def extract_text_from_pdf(pdf_path):\n",
        "    text = \"\"\n",
        "    with fitz.open(pdf_path) as doc:\n",
        "        for page in doc:\n",
        "            text += page.get_text()\n",
        "    return text\n",
        "\n",
        "# Tokenize text using BERT tokenizer\n",
        "def tokenize_text(text):\n",
        "    tokenized_input = tokenizer(text, return_tensors=\"pt\", max_length=512, truncation=True)\n",
        "    return tokenized_input\n",
        "\n",
        "# Get BERT embeddings for tokenized text\n",
        "def get_bert_embeddings(tokenized_input):\n",
        "    with torch.no_grad():\n",
        "        outputs = model(**tokenized_input)\n",
        "        embeddings = outputs.last_hidden_state[:, 0, :]  # CLS token embeddings\n",
        "    return embeddings\n",
        "\n",
        "# Calculate cosine similarity between query and text embeddings\n",
        "def calculate_similarity(query_embedding, text_embedding):\n",
        "    return cosine_similarity(query_embedding.reshape(1, -1), text_embedding.reshape(1, -1))[0][0]\n",
        "\n",
        "# Find sections similar to a given query\n",
        "def find_similar_sections(pdf_path, query):\n",
        "    text = extract_text_from_pdf(pdf_path)\n",
        "    tokenized_input = tokenize_text(text)\n",
        "    text_embeddings = get_bert_embeddings(tokenized_input)\n",
        "\n",
        "    # Tokenize and embed query\n",
        "    query_tokens = tokenizer(query, return_tensors=\"pt\", max_length=512, truncation=True)\n",
        "    query_embeddings = get_bert_embeddings(query_tokens)\n",
        "\n",
        "    similarity_scores = []\n",
        "    for i in range(text_embeddings.shape[0]):\n",
        "        similarity_score = calculate_similarity(query_embeddings, text_embeddings[i])\n",
        "        similarity_scores.append((i, similarity_score))\n",
        "\n",
        "    similarity_scores.sort(key=lambda x: x[1], reverse=True)\n",
        "    return similarity_scores\n",
        "\n",
        "def find_similar_sections_in_pdf(pdf_path, query):\n",
        "    # Find similar sections\n",
        "    similar_sections = find_similar_sections(pdf_path, query)\n",
        "    tokenized_input = tokenize_text(extract_text_from_pdf(pdf_path))  # Tokenize the entire text\n",
        "\n",
        "    # Print top similar sections with content\n",
        "    num_sections = min(3, len(similar_sections))\n",
        "    result = []\n",
        "    for i in range(num_sections):\n",
        "        section_index, similarity_score = similar_sections[i]\n",
        "        section_content = \"\"\n",
        "\n",
        "        # Get the start and end index of the section\n",
        "        start_index = tokenized_input['input_ids'][section_index].tolist().index(101)  # Start of text token\n",
        "        end_index = tokenized_input['input_ids'][section_index].tolist().index(102)    # End of text token\n",
        "\n",
        "        # Extract the text of the section\n",
        "        section_text = tokenizer.decode(tokenized_input['input_ids'][section_index][start_index+1:end_index])  # Exclude [CLS] token at start\n",
        "\n",
        "        # Split the text into words and print 5 words per line\n",
        "        words = section_text.split()\n",
        "        section_text_lines = [words[i:i+5] for i in range(0, len(words), 5)]\n",
        "        section_text_formatted = \"\\n\".join([\" \".join(line) for line in section_text_lines])\n",
        "\n",
        "        result.append((section_index, similarity_score, section_text_formatted))\n",
        "\n",
        "    return result\n"
      ],
      "metadata": {
        "id": "SXhCx8m0F3LS"
      },
      "execution_count": 36,
      "outputs": []
    },
    {
      "cell_type": "code",
      "source": [
        "# Example usage\n",
        "pdf_path = \"FS-LCG-A.pdf\"\n",
        "query = \"russsell index performace\"\n",
        "similar_sections = find_similar_sections_in_pdf(pdf_path, query)\n",
        "\n",
        "# Print similar sections\n",
        "for section_index, similarity_score, section_text in similar_sections:\n",
        "    print(f\"Section {section_index}: Similarity Score: {similarity_score}\")\n",
        "    print(\"Section Content:\")\n",
        "    print(\"-\" * 30)\n",
        "    print(section_text)\n",
        "    print(\"-\" * 30)\n",
        "    print()"
      ],
      "metadata": {
        "colab": {
          "base_uri": "https://localhost:8080/"
        },
        "id": "CgsIvesAIgR-",
        "outputId": "debd787b-cd09-4c43-8b5d-0b18f2aa2e76"
      },
      "execution_count": 38,
      "outputs": [
        {
          "output_type": "stream",
          "name": "stdout",
          "text": [
            "Section 0: Similarity Score: 0.691104531288147\n",
            "Section Content:\n",
            "------------------------------\n",
            "fact sheet | march 31,\n",
            "2024 jpmorgan large cap growth\n",
            "fund r6 shares : jlgmx\n",
            "r5 shares : jlgrx r4\n",
            "shares : jlgqx r3 shares\n",
            ": jlgpx r2 shares :\n",
            "jlgzx i shares : seegx\n",
            "c shares : olgcx a\n",
            "shares : olgax designed to\n",
            "provide long - term capital\n",
            "appreciation primarily through a diversified\n",
            "portfolio of high - growth\n",
            "u. s. equity securities. approach\n",
            "• typically invests in a\n",
            "diversified portfolio of large cap\n",
            "companies with above - average\n",
            "growth prospects • invests primarily\n",
            "in large, well established companies\n",
            "• looks for companies with\n",
            "attractive fundamentals, potential to exceed\n",
            "market expectations and positive price\n",
            "momentum expertise portfolio manager (\n",
            "s ) and years of\n",
            "experience larry lee, 31 years\n",
            "holly morris, 20 years giri\n",
            "devulapally, 32 years robert maloney,\n",
            "24 years joseph wilson, 19\n",
            "years fund information class launch\n",
            "february 22, 1994 share class\n",
            "number 3148 cusip 4812c0506 fund\n",
            "assets $ 87. 28 bn\n",
            "annual expenses ( % )\n",
            "net expenses : 0. 940\n",
            "gross expenses : 1. 020\n",
            "minimum initial investment $ 1,\n",
            "000 ratings morningstar medalist ratingtm\n",
            "bronze - 2 / 16\n",
            "/ 2024 analyst - driven\n",
            "% 100 data coverage %\n",
            "100 morningstar star rating 3\n",
            "/ 31 / 24 overall\n",
            "morningstar ratingtm ★★★★★ morningstar categorytm\n",
            "large growth overall morningstar ratings\n",
            "5 stars ; 1111 funds.\n",
            "three year rating 4 stars\n",
            "; 1111 funds. five year\n",
            "rating 5 stars ; 1037\n",
            "funds. ten year rating 5\n",
            "stars ; 807 funds. ratings\n",
            "reflect risk - adjusted performance.\n",
            "different share classes may have\n",
            "different ratings. overall morningstar ratingtm\n",
            "for a fund is derived\n",
            "from a weighted average of\n",
            "the performance figures associated with\n",
            "its three -, five -,\n",
            "and 10 - year (\n",
            "if applicable ) morningstar rating\n",
            "metrics. performance disclosures performance quoted\n",
            "is past performance and is\n",
            "no guarantee of future results.\n",
            "investment returns and principal value\n",
            "will fluctuate, so shares, when\n",
            "sold, may be worth more\n",
            "or less than original cost.\n",
            "current performance may be higher\n",
            "or lower than returns shown.\n",
            "call 1 - 800 -\n",
            "480 - 4111 for most\n",
            "recent month - end performance.\n",
            "the quoted performance of the\n",
            "fund includes performance of a\n",
            "predecessor fund / share class\n",
            "prior to the fund's commencement\n",
            "of operations. please refer to\n",
            "the current prospectus for further\n",
            "information. performance benchmark : russell\n",
            "1000 growth index b fund\n",
            ": class a shares f\n",
            "growth of $ 10\n",
            "------------------------------\n",
            "\n"
          ]
        }
      ]
    },
    {
      "cell_type": "code",
      "source": [
        "ls"
      ],
      "metadata": {
        "colab": {
          "base_uri": "https://localhost:8080/"
        },
        "id": "tRHUz2WirjZS",
        "outputId": "ed8ff55b-e0e4-4c2f-f59e-ddecf22732c9"
      },
      "execution_count": 2,
      "outputs": [
        {
          "output_type": "stream",
          "name": "stdout",
          "text": [
            "\u001b[0m\u001b[01;34mpdf_files\u001b[0m/  \u001b[01;34msample_data\u001b[0m/  webpage_text.txt\n"
          ]
        }
      ]
    },
    {
      "cell_type": "code",
      "source": [
        "rm -r *"
      ],
      "metadata": {
        "id": "YPLLZhfysKQP"
      },
      "execution_count": 5,
      "outputs": []
    },
    {
      "cell_type": "code",
      "source": [
        "pip install fitz frontend pymupdf"
      ],
      "metadata": {
        "colab": {
          "base_uri": "https://localhost:8080/"
        },
        "id": "uFiaRR0rF5zO",
        "outputId": "56308a4d-35d3-4777-8834-08177c04e313"
      },
      "execution_count": 22,
      "outputs": [
        {
          "output_type": "stream",
          "name": "stdout",
          "text": [
            "Requirement already satisfied: fitz in /usr/local/lib/python3.10/dist-packages (0.0.1.dev2)\n",
            "Requirement already satisfied: frontend in /usr/local/lib/python3.10/dist-packages (0.0.3)\n",
            "Collecting pymupdf\n",
            "  Downloading PyMuPDF-1.24.4-cp310-none-manylinux2014_x86_64.whl (3.5 MB)\n",
            "\u001b[2K     \u001b[90m━━━━━━━━━━━━━━━━━━━━━━━━━━━━━━━━━━━━━━━━\u001b[0m \u001b[32m3.5/3.5 MB\u001b[0m \u001b[31m17.6 MB/s\u001b[0m eta \u001b[36m0:00:00\u001b[0m\n",
            "\u001b[?25hRequirement already satisfied: configobj in /usr/local/lib/python3.10/dist-packages (from fitz) (5.0.8)\n",
            "Requirement already satisfied: configparser in /usr/local/lib/python3.10/dist-packages (from fitz) (7.0.0)\n",
            "Requirement already satisfied: httplib2 in /usr/local/lib/python3.10/dist-packages (from fitz) (0.22.0)\n",
            "Requirement already satisfied: nibabel in /usr/local/lib/python3.10/dist-packages (from fitz) (4.0.2)\n",
            "Requirement already satisfied: nipype in /usr/local/lib/python3.10/dist-packages (from fitz) (1.8.6)\n",
            "Requirement already satisfied: numpy in /usr/local/lib/python3.10/dist-packages (from fitz) (1.25.2)\n",
            "Requirement already satisfied: pandas in /usr/local/lib/python3.10/dist-packages (from fitz) (2.0.3)\n",
            "Requirement already satisfied: pyxnat in /usr/local/lib/python3.10/dist-packages (from fitz) (1.6.2)\n",
            "Requirement already satisfied: scipy in /usr/local/lib/python3.10/dist-packages (from fitz) (1.11.4)\n",
            "Requirement already satisfied: starlette>=0.12.0 in /usr/local/lib/python3.10/dist-packages (from frontend) (0.37.2)\n",
            "Requirement already satisfied: uvicorn>=0.7.1 in /usr/local/lib/python3.10/dist-packages (from frontend) (0.29.0)\n",
            "Requirement already satisfied: itsdangerous>=1.1.0 in /usr/local/lib/python3.10/dist-packages (from frontend) (2.2.0)\n",
            "Requirement already satisfied: aiofiles in /usr/local/lib/python3.10/dist-packages (from frontend) (23.2.1)\n",
            "Collecting PyMuPDFb==1.24.3 (from pymupdf)\n",
            "  Downloading PyMuPDFb-1.24.3-py3-none-manylinux2014_x86_64.manylinux_2_17_x86_64.whl (15.8 MB)\n",
            "\u001b[2K     \u001b[90m━━━━━━━━━━━━━━━━━━━━━━━━━━━━━━━━━━━━━━━━\u001b[0m \u001b[32m15.8/15.8 MB\u001b[0m \u001b[31m18.3 MB/s\u001b[0m eta \u001b[36m0:00:00\u001b[0m\n",
            "\u001b[?25hRequirement already satisfied: anyio<5,>=3.4.0 in /usr/local/lib/python3.10/dist-packages (from starlette>=0.12.0->frontend) (3.7.1)\n",
            "Requirement already satisfied: click>=7.0 in /usr/local/lib/python3.10/dist-packages (from uvicorn>=0.7.1->frontend) (8.1.7)\n",
            "Requirement already satisfied: h11>=0.8 in /usr/local/lib/python3.10/dist-packages (from uvicorn>=0.7.1->frontend) (0.14.0)\n",
            "Requirement already satisfied: typing-extensions>=4.0 in /usr/local/lib/python3.10/dist-packages (from uvicorn>=0.7.1->frontend) (4.11.0)\n",
            "Requirement already satisfied: six in /usr/local/lib/python3.10/dist-packages (from configobj->fitz) (1.16.0)\n",
            "Requirement already satisfied: pyparsing!=3.0.0,!=3.0.1,!=3.0.2,!=3.0.3,<4,>=2.4.2 in /usr/local/lib/python3.10/dist-packages (from httplib2->fitz) (3.1.2)\n",
            "Requirement already satisfied: packaging>=17.0 in /usr/local/lib/python3.10/dist-packages (from nibabel->fitz) (24.0)\n",
            "Requirement already satisfied: setuptools in /usr/local/lib/python3.10/dist-packages (from nibabel->fitz) (67.7.2)\n",
            "Requirement already satisfied: networkx>=2.0 in /usr/local/lib/python3.10/dist-packages (from nipype->fitz) (3.3)\n",
            "Requirement already satisfied: prov>=1.5.2 in /usr/local/lib/python3.10/dist-packages (from nipype->fitz) (2.0.0)\n",
            "Requirement already satisfied: pydot>=1.2.3 in /usr/local/lib/python3.10/dist-packages (from nipype->fitz) (1.4.2)\n",
            "Requirement already satisfied: python-dateutil>=2.2 in /usr/local/lib/python3.10/dist-packages (from nipype->fitz) (2.8.2)\n",
            "Requirement already satisfied: rdflib>=5.0.0 in /usr/local/lib/python3.10/dist-packages (from nipype->fitz) (7.0.0)\n",
            "Requirement already satisfied: simplejson>=3.8.0 in /usr/local/lib/python3.10/dist-packages (from nipype->fitz) (3.19.2)\n",
            "Requirement already satisfied: traits!=5.0,<6.4,>=4.6 in /usr/local/lib/python3.10/dist-packages (from nipype->fitz) (6.3.2)\n",
            "Requirement already satisfied: filelock>=3.0.0 in /usr/local/lib/python3.10/dist-packages (from nipype->fitz) (3.14.0)\n",
            "Requirement already satisfied: etelemetry>=0.2.0 in /usr/local/lib/python3.10/dist-packages (from nipype->fitz) (0.3.1)\n",
            "Requirement already satisfied: looseversion in /usr/local/lib/python3.10/dist-packages (from nipype->fitz) (1.3.0)\n",
            "Requirement already satisfied: pytz>=2020.1 in /usr/local/lib/python3.10/dist-packages (from pandas->fitz) (2023.4)\n",
            "Requirement already satisfied: tzdata>=2022.1 in /usr/local/lib/python3.10/dist-packages (from pandas->fitz) (2024.1)\n",
            "Requirement already satisfied: lxml>=4.3 in /usr/local/lib/python3.10/dist-packages (from pyxnat->fitz) (4.9.4)\n",
            "Requirement already satisfied: requests>=2.20 in /usr/local/lib/python3.10/dist-packages (from pyxnat->fitz) (2.31.0)\n",
            "Requirement already satisfied: pathlib>=1.0 in /usr/local/lib/python3.10/dist-packages (from pyxnat->fitz) (1.0.1)\n",
            "Requirement already satisfied: idna>=2.8 in /usr/local/lib/python3.10/dist-packages (from anyio<5,>=3.4.0->starlette>=0.12.0->frontend) (3.7)\n",
            "Requirement already satisfied: sniffio>=1.1 in /usr/local/lib/python3.10/dist-packages (from anyio<5,>=3.4.0->starlette>=0.12.0->frontend) (1.3.1)\n",
            "Requirement already satisfied: exceptiongroup in /usr/local/lib/python3.10/dist-packages (from anyio<5,>=3.4.0->starlette>=0.12.0->frontend) (1.2.1)\n",
            "Requirement already satisfied: ci-info>=0.2 in /usr/local/lib/python3.10/dist-packages (from etelemetry>=0.2.0->nipype->fitz) (0.3.0)\n",
            "Requirement already satisfied: isodate<0.7.0,>=0.6.0 in /usr/local/lib/python3.10/dist-packages (from rdflib>=5.0.0->nipype->fitz) (0.6.1)\n",
            "Requirement already satisfied: charset-normalizer<4,>=2 in /usr/local/lib/python3.10/dist-packages (from requests>=2.20->pyxnat->fitz) (3.3.2)\n",
            "Requirement already satisfied: urllib3<3,>=1.21.1 in /usr/local/lib/python3.10/dist-packages (from requests>=2.20->pyxnat->fitz) (2.0.7)\n",
            "Requirement already satisfied: certifi>=2017.4.17 in /usr/local/lib/python3.10/dist-packages (from requests>=2.20->pyxnat->fitz) (2024.2.2)\n",
            "Installing collected packages: PyMuPDFb, pymupdf\n",
            "Successfully installed PyMuPDFb-1.24.3 pymupdf-1.24.4\n"
          ]
        }
      ]
    },
    {
      "cell_type": "code",
      "source": [],
      "metadata": {
        "id": "eTu7zGJ_F7Gd"
      },
      "execution_count": null,
      "outputs": []
    }
  ]
}